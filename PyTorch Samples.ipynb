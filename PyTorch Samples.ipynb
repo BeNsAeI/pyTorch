{
 "cells": [
  {
   "cell_type": "markdown",
   "metadata": {},
   "source": [
    "This is a General tutorial for pytorch environment"
   ]
  },
  {
   "cell_type": "code",
   "execution_count": 1,
   "metadata": {},
   "outputs": [
    {
     "name": "stdout",
     "output_type": "stream",
     "text": [
      "Done!\n"
     ]
    }
   ],
   "source": [
    "#Import pyTorch\n",
    "import torch as t\n",
    "#import numpy\n",
    "import numpy as np\n",
    "#import sklearn data sets\n",
    "from sklearn import datasets\n",
    "print(\"Done!\")\n",
    "#setting up cuda:\n",
    "# on any tensor or model use.cuda()"
   ]
  },
  {
   "cell_type": "code",
   "execution_count": 2,
   "metadata": {},
   "outputs": [
    {
     "name": "stdout",
     "output_type": "stream",
     "text": [
      "torch.Size([5])\n",
      "tensor([0., 0., 0., 0., 0.])\n",
      "tensor([[0., 0., 0., 0., 0.],\n",
      "        [0., 0., 0., 0., 0.],\n",
      "        [0., 0., 0., 0., 0.],\n",
      "        [0., 0., 0., 0., 0.]])\n",
      "torch.Size([4, 5])\n",
      "torch.Size([1000, 1000])\n",
      "tensor([[0., 0., 0.,  ..., 0., 0., 0.],\n",
      "        [0., 0., 0.,  ..., 0., 0., 0.],\n",
      "        [0., 0., 0.,  ..., 0., 0., 0.],\n",
      "        ...,\n",
      "        [0., 0., 0.,  ..., 0., 0., 0.],\n",
      "        [0., 0., 0.,  ..., 0., 0., 0.],\n",
      "        [0., 0., 0.,  ..., 0., 0., 0.]])\n",
      "Done!\n"
     ]
    }
   ],
   "source": [
    "#setting default tensor format to be cuda\n",
    "t.set_default_tensor_type('torch.cuda.FloatTensor')\n",
    "#alternatively you can use this:\n",
    "#dtype = torch.cuda.FloatTensor\n",
    "#w1 = t.method(args).type(dtype)\n",
    "x = t.Tensor(5)\n",
    "x.data.zero_()\n",
    "print(x.size())\n",
    "print(x)\n",
    "y = t.Tensor(4,5).cuda()\n",
    "y.data.zero_()\n",
    "print(y)\n",
    "print(y.size())\n",
    "test_np_array = np.zeros((10,10))\n",
    "test_torch_tensor = t.Tensor(1000,1000).cuda()\n",
    "test_torch_tensor.data.zero_()\n",
    "print(test_torch_tensor.shape)\n",
    "print(test_torch_tensor)\n",
    "# get type\n",
    "print(\"Done!\")"
   ]
  },
  {
   "cell_type": "code",
   "execution_count": null,
   "metadata": {},
   "outputs": [],
   "source": [
    "# define AI functions:\n",
    "# load data\n",
    "# change format of the data\n",
    "# torch.softmax()\n",
    "# torch.einsum()**\n",
    "#\n",
    "print(\"Done!\")"
   ]
  },
  {
   "cell_type": "code",
   "execution_count": null,
   "metadata": {},
   "outputs": [],
   "source": [
    "# iterate x epochs\n",
    "#  run the model\n",
    "#  compute loss\n",
    "#  compute BP\n",
    "#  compute gradient\n",
    "#  perform gradient decent\n",
    "#step size is a\n",
    "a = 0.03\n",
    "x = input_var\n",
    "y = true_label\n",
    "W.requires_grad = True\n",
    "b.requires_grad = True\n",
    "for i in range(2000):\n",
    "    y_hat = softmax(matmul(W,x)+b)\n",
    "    loss = cross_entropy(y, y_hat)\n",
    "    loss.backward()\n",
    "    W.data -= a * W.grad\n",
    "    b.data -= a * b.grad\n",
    "    W.grad.data.zero_()\n",
    "    b.grad.data.zero_()\n",
    "print(\"Done!\")"
   ]
  },
  {
   "cell_type": "code",
   "execution_count": null,
   "metadata": {},
   "outputs": [],
   "source": [
    "#pytorch optimization librariy\n",
    "a = 0.03\n",
    "parameters = [W1, b1, W2, b2]\n",
    "optimizer = torch.optim.SGD(parameters, lr = a)\n",
    "#changes will be:\n",
    "for i in range(3000):\n",
    "    h = torch.sigmoid(mutual(W1, x) + b1)\n",
    "    y_hat = softmax(matmul(W2,h)+b2)\n",
    "    loss = cross_entropy()\n",
    "    optimizer.step()\n",
    "    optimizer.zero_grad()"
   ]
  }
 ],
 "metadata": {
  "kernelspec": {
   "display_name": "Python 3",
   "language": "python",
   "name": "python3"
  },
  "language_info": {
   "codemirror_mode": {
    "name": "ipython",
    "version": 3
   },
   "file_extension": ".py",
   "mimetype": "text/x-python",
   "name": "python",
   "nbconvert_exporter": "python",
   "pygments_lexer": "ipython3",
   "version": "3.7.2"
  }
 },
 "nbformat": 4,
 "nbformat_minor": 2
}
